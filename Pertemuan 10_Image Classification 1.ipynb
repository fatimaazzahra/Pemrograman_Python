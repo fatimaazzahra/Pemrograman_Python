{
  "nbformat": 4,
  "nbformat_minor": 0,
  "metadata": {
    "colab": {
      "name": "Untitled0.ipynb",
      "provenance": [],
      "authorship_tag": "ABX9TyMbdV/+dRrJWUguo9TM8AoP",
      "include_colab_link": true
    },
    "kernelspec": {
      "name": "python3",
      "display_name": "Python 3"
    }
  },
  "cells": [
    {
      "cell_type": "markdown",
      "metadata": {
        "id": "view-in-github",
        "colab_type": "text"
      },
      "source": [
        "<a href=\"https://colab.research.google.com/github/fatimaazzahra/Pemrograman_Python/blob/main/Pertemuan%2010_Image%20Classification%201.ipynb\" target=\"_parent\"><img src=\"https://colab.research.google.com/assets/colab-badge.svg\" alt=\"Open In Colab\"/></a>"
      ]
    },
    {
      "cell_type": "code",
      "metadata": {
        "id": "1QFdo-aP8xtH"
      },
      "source": [
        "from google.colab import drive\n",
        "drive.mount('/content/drive')"
      ],
      "execution_count": null,
      "outputs": []
    },
    {
      "cell_type": "code",
      "metadata": {
        "id": "7fZM_Rkq2Mpu"
      },
      "source": [
        "cd /content/drive/My Drive/Colab Notebooks"
      ],
      "execution_count": null,
      "outputs": []
    },
    {
      "cell_type": "code",
      "metadata": {
        "colab": {
          "base_uri": "https://localhost:8080/"
        },
        "id": "MYGOsOREE4Dp",
        "outputId": "33fe221f-b6f9-4b92-be2c-11990f2e2c67"
      },
      "source": [
        "ls"
      ],
      "execution_count": 48,
      "outputs": [
        {
          "output_type": "stream",
          "text": [
            "\u001b[0m\u001b[01;36m3scene\u001b[0m@  \u001b[01;34mnnmodel_scene\u001b[0m/  Untitled0.ipynb\n"
          ],
          "name": "stdout"
        }
      ]
    },
    {
      "cell_type": "code",
      "metadata": {
        "id": "ix59K6QeInSx"
      },
      "source": [
        "# import the necessary packages\n",
        "from keras.models import Sequential\n",
        "from keras.layers.core import Activation\n",
        "from keras.layers.core import Flatten\n",
        "from keras.layers.core import Dense\n",
        "from keras.optimizers import Adam\n",
        "from sklearn.preprocessing import LabelBinarizer\n",
        "from sklearn.model_selection import train_test_split\n",
        "from sklearn.metrics import classification_report\n",
        "from PIL import Image\n",
        "from imutils import paths\n",
        "import numpy as np\n",
        "import os"
      ],
      "execution_count": 14,
      "outputs": []
    },
    {
      "cell_type": "code",
      "metadata": {
        "colab": {
          "base_uri": "https://localhost:8080/"
        },
        "id": "2oiy3y3VKFz9",
        "outputId": "44fbf1b7-8780-4264-f59f-98b57955ae0a"
      },
      "source": [
        "# grab all image paths in the input dataset directory, the initialize\n",
        "# our list of images and corresponding class labels\n",
        "print(\"[INFO] loading images...\")\n",
        "imagePaths = paths.list_images(\"3scene\")\n",
        "data = []\n",
        "labels = []"
      ],
      "execution_count": 15,
      "outputs": [
        {
          "output_type": "stream",
          "text": [
            "[INFO] loading images...\n"
          ],
          "name": "stdout"
        }
      ]
    },
    {
      "cell_type": "code",
      "metadata": {
        "id": "_gFpmdmKLFMb"
      },
      "source": [
        "# loop over our input images\n",
        "for imagePath in imagePaths:\n",
        "  # load the input image from disk, resize it to 32x32 pixels, scale\n",
        "  # the pixel intensities to the range [0, 1], and then update our\n",
        "  # image list\n",
        "  image = Image.open(imagePath)\n",
        "  image = np.array(image.resize((32, 32))) / 255.0\n",
        "  data.append(image)\n",
        "\n",
        "  # extract the class label from the file path and update the\n",
        "  # label list\n",
        "  label = imagePath.split(os.path.sep)[-2]\n",
        "  labels.append(label)"
      ],
      "execution_count": 16,
      "outputs": []
    },
    {
      "cell_type": "code",
      "metadata": {
        "id": "nqCrcOZhQLD1"
      },
      "source": [
        "print(labels)"
      ],
      "execution_count": null,
      "outputs": []
    },
    {
      "cell_type": "code",
      "metadata": {
        "id": "WdFL_vgESRM_"
      },
      "source": [
        "# emcode the labels, converting them from strings to integers\n",
        "lb = LabelBinarizer()\n",
        "labels = lb.fit_transform(labels)"
      ],
      "execution_count": 19,
      "outputs": []
    },
    {
      "cell_type": "code",
      "metadata": {
        "id": "ZqKyHw4pSn4Z"
      },
      "source": [
        "print(labels)"
      ],
      "execution_count": null,
      "outputs": []
    },
    {
      "cell_type": "code",
      "metadata": {
        "id": "R3WhU3bkQ_Cg"
      },
      "source": [
        "# perform a training and testing split, using 7% of the data for\n",
        "# training and 25% for evaluation\n",
        "(trainX, testX, trainY, testY) = train_test_split(np.array(data), np.array(labels), test_size=0.25, shuffle=True)\n",
        "print(trainX.shape)\n",
        "print(testX.shape)"
      ],
      "execution_count": null,
      "outputs": []
    },
    {
      "cell_type": "code",
      "metadata": {
        "id": "R2KmZhHjTrbt"
      },
      "source": [
        "from keras.models import Sequential\n",
        "from keras.layers.core import Flatten\n",
        "from keras.layers.core import Dense\n",
        "\n",
        "model = Sequential(\n",
        "    [\n",
        "     Flatten(input_shape=(32*32*3,)),\n",
        "     Dense(100, activation=\"relu\", name=\"layer1\"),\n",
        "     Dense(16, activation=\"relu\", name=\"layer2\"),\n",
        "     Dense(16, activation=\"relu\", name=\"layer3\"),\n",
        "     Dense(3, activation = \"softmax\", name=\"layer4\"),\n",
        "    ]\n",
        ")"
      ],
      "execution_count": 23,
      "outputs": []
    },
    {
      "cell_type": "code",
      "metadata": {
        "colab": {
          "base_uri": "https://localhost:8080/"
        },
        "id": "gnvhBQdvWETh",
        "outputId": "c00b8d6b-cd25-4d4f-ee3b-08b961145dad"
      },
      "source": [
        "model.summary()"
      ],
      "execution_count": 55,
      "outputs": [
        {
          "output_type": "stream",
          "text": [
            "Model: \"sequential\"\n",
            "_________________________________________________________________\n",
            "Layer (type)                 Output Shape              Param #   \n",
            "=================================================================\n",
            "flatten (Flatten)            (None, 3072)              0         \n",
            "_________________________________________________________________\n",
            "layer1 (Dense)               (None, 100)               307300    \n",
            "_________________________________________________________________\n",
            "layer2 (Dense)               (None, 16)                1616      \n",
            "_________________________________________________________________\n",
            "layer3 (Dense)               (None, 16)                272       \n",
            "_________________________________________________________________\n",
            "layer4 (Dense)               (None, 3)                 51        \n",
            "=================================================================\n",
            "Total params: 309,239\n",
            "Trainable params: 309,239\n",
            "Non-trainable params: 0\n",
            "_________________________________________________________________\n"
          ],
          "name": "stdout"
        }
      ]
    },
    {
      "cell_type": "code",
      "metadata": {
        "colab": {
          "base_uri": "https://localhost:8080/"
        },
        "id": "-PECtSluWcTb",
        "outputId": "70232102-9385-440b-840e-1cd8fe76cbd4"
      },
      "source": [
        "# train the model using the Adam optimizer\n",
        "print(\"[INFO] training network...\")\n",
        "opt = Adam(lr=1e-3, decay=1e-3 / 50)\n",
        "model.compile(loss=\"categorical_crossentropy\", optimizer=opt, \n",
        "  metrics=[\"accuracy\"])\n",
        "H = model.fit(trainX, trainY, validation_data=(testX, testY), epochs=15, batch_size=32)"
      ],
      "execution_count": 69,
      "outputs": [
        {
          "output_type": "stream",
          "text": [
            "[INFO] training network...\n",
            "Epoch 1/15\n",
            "WARNING:tensorflow:Model was constructed with shape (None, 3072) for input Tensor(\"flatten_input:0\", shape=(None, 3072), dtype=float32), but it was called on an input with incompatible shape (None, 32, 32, 3).\n",
            "WARNING:tensorflow:Model was constructed with shape (None, 3072) for input Tensor(\"flatten_input:0\", shape=(None, 3072), dtype=float32), but it was called on an input with incompatible shape (None, 32, 32, 3).\n",
            "18/23 [======================>.......] - ETA: 0s - loss: 0.3883 - accuracy: 0.8576WARNING:tensorflow:Model was constructed with shape (None, 3072) for input Tensor(\"flatten_input:0\", shape=(None, 3072), dtype=float32), but it was called on an input with incompatible shape (None, 32, 32, 3).\n",
            "23/23 [==============================] - 0s 10ms/step - loss: 0.3444 - accuracy: 0.8734 - val_loss: 0.5635 - val_accuracy: 0.8101\n",
            "Epoch 2/15\n",
            "23/23 [==============================] - 0s 4ms/step - loss: 0.1325 - accuracy: 0.9451 - val_loss: 0.3597 - val_accuracy: 0.8776\n",
            "Epoch 3/15\n",
            "23/23 [==============================] - 0s 4ms/step - loss: 0.1090 - accuracy: 0.9648 - val_loss: 0.3685 - val_accuracy: 0.8692\n",
            "Epoch 4/15\n",
            "23/23 [==============================] - 0s 4ms/step - loss: 0.0739 - accuracy: 0.9817 - val_loss: 0.3849 - val_accuracy: 0.8608\n",
            "Epoch 5/15\n",
            "23/23 [==============================] - 0s 4ms/step - loss: 0.0710 - accuracy: 0.9761 - val_loss: 0.3914 - val_accuracy: 0.8608\n",
            "Epoch 6/15\n",
            "23/23 [==============================] - 0s 4ms/step - loss: 0.0664 - accuracy: 0.9817 - val_loss: 0.3762 - val_accuracy: 0.8692\n",
            "Epoch 7/15\n",
            "23/23 [==============================] - 0s 4ms/step - loss: 0.0599 - accuracy: 0.9887 - val_loss: 0.3951 - val_accuracy: 0.8776\n",
            "Epoch 8/15\n",
            "23/23 [==============================] - 0s 4ms/step - loss: 0.0686 - accuracy: 0.9803 - val_loss: 0.4024 - val_accuracy: 0.8565\n",
            "Epoch 9/15\n",
            "23/23 [==============================] - 0s 4ms/step - loss: 0.0775 - accuracy: 0.9761 - val_loss: 0.4148 - val_accuracy: 0.8565\n",
            "Epoch 10/15\n",
            "23/23 [==============================] - 0s 5ms/step - loss: 0.0664 - accuracy: 0.9747 - val_loss: 0.3887 - val_accuracy: 0.8776\n",
            "Epoch 11/15\n",
            "23/23 [==============================] - 0s 4ms/step - loss: 0.0567 - accuracy: 0.9831 - val_loss: 0.3846 - val_accuracy: 0.8692\n",
            "Epoch 12/15\n",
            "23/23 [==============================] - 0s 4ms/step - loss: 0.0494 - accuracy: 0.9887 - val_loss: 0.4299 - val_accuracy: 0.8481\n",
            "Epoch 13/15\n",
            "23/23 [==============================] - 0s 4ms/step - loss: 0.0583 - accuracy: 0.9845 - val_loss: 0.4473 - val_accuracy: 0.8650\n",
            "Epoch 14/15\n",
            "23/23 [==============================] - 0s 4ms/step - loss: 0.0636 - accuracy: 0.9831 - val_loss: 0.5791 - val_accuracy: 0.8017\n",
            "Epoch 15/15\n",
            "23/23 [==============================] - 0s 4ms/step - loss: 0.1656 - accuracy: 0.9395 - val_loss: 0.4489 - val_accuracy: 0.8523\n"
          ],
          "name": "stdout"
        }
      ]
    },
    {
      "cell_type": "code",
      "metadata": {
        "colab": {
          "base_uri": "https://localhost:8080/",
          "height": 590
        },
        "id": "iK0Hdg1Vba2_",
        "outputId": "495c96f3-d173-4ecc-c7ab-deaa16a2a277"
      },
      "source": [
        "import matplotlib.pyplot as plt\n",
        "\n",
        "print(H.history.keys())\n",
        "# summarize history for accuracy\n",
        "plt.plot(H.history['accuracy'])\n",
        "plt.plot(H.history['val_accuracy'])\n",
        "plt.title('model accuracy')\n",
        "plt.ylabel('accuracy')\n",
        "plt.xlabel('epoch')\n",
        "plt.legend(['train', 'test'], loc='upper left')\n",
        "plt.show()\n",
        "# summarize history for loss\n",
        "plt.plot(H.history['loss'])\n",
        "plt.plot(H.history['val_loss'])\n",
        "plt.title('model loss')\n",
        "plt.ylabel('loss')\n",
        "plt.xlabel('epoch')\n",
        "plt.legend(['train', 'test'], loc='upper left')\n",
        "plt.show()"
      ],
      "execution_count": 70,
      "outputs": [
        {
          "output_type": "stream",
          "text": [
            "dict_keys(['loss', 'accuracy', 'val_loss', 'val_accuracy'])\n"
          ],
          "name": "stdout"
        },
        {
          "output_type": "display_data",
          "data": {
            "image/png": "[encoded data removed]",
            "text/plain": [
              "<Figure size 432x288 with 1 Axes>"
            ]
          },
          "metadata": {
            "tags": [],
            "needs_background": "light"
          }
        },
        {
          "output_type": "display_data",
          "data": {
            "image/png": "[encoded data removed]",
            "text/plain": [
              "<Figure size 432x288 with 1 Axes>"
            ]
          },
          "metadata": {
            "tags": [],
            "needs_background": "light"
          }
        }
      ]
    },
    {
      "cell_type": "code",
      "metadata": {
        "colab": {
          "base_uri": "https://localhost:8080/"
        },
        "id": "tYNU2ftteIth",
        "outputId": "586de722-6f22-417c-fefa-d1c2b629f2eb"
      },
      "source": [
        "# evaluate the network\n",
        "print(\"[INFO] evaluating network...\")\n",
        "predictions = model.predict(testX, batch_size=32)\n",
        "print(classification_report(testY.argmax(axis=1),\n",
        "  predictions.argmax(axis=1), target_names=lb.classes_))"
      ],
      "execution_count": 71,
      "outputs": [
        {
          "output_type": "stream",
          "text": [
            "[INFO] evaluating network...\n",
            "WARNING:tensorflow:Model was constructed with shape (None, 3072) for input Tensor(\"flatten_input:0\", shape=(None, 3072), dtype=float32), but it was called on an input with incompatible shape (None, 32, 32, 3).\n",
            "              precision    recall  f1-score   support\n",
            "\n",
            "       coast       0.79      0.92      0.85        98\n",
            "      forest       0.99      0.88      0.93        85\n",
            "     highway       0.79      0.69      0.73        54\n",
            "\n",
            "    accuracy                           0.85       237\n",
            "   macro avg       0.85      0.83      0.84       237\n",
            "weighted avg       0.86      0.85      0.85       237\n",
            "\n"
          ],
          "name": "stdout"
        }
      ]
    },
    {
      "cell_type": "code",
      "metadata": {
        "id": "8NMfO-effCq0"
      },
      "source": [
        "model.save('nnmodel_scene')"
      ],
      "execution_count": null,
      "outputs": []
    },
    {
      "cell_type": "code",
      "metadata": {
        "id": "W8SEUb6th5nW"
      },
      "source": [
        "import cv2\n",
        "import matplotlib.pyplot as plt\n",
        "image1='forest_test.jpg'"
      ],
      "execution_count": 50,
      "outputs": []
    },
    {
      "cell_type": "code",
      "metadata": {
        "id": "K5J_84bFmE98"
      },
      "source": [
        "img_array = cv2.imread(image1)\n",
        "plt.imshow(img_array)\n",
        "plt.show()\n",
        "# print(type(img_array))"
      ],
      "execution_count": null,
      "outputs": []
    },
    {
      "cell_type": "code",
      "metadata": {
        "id": "2QHcMVfDp5Lk"
      },
      "source": [
        "image_testing = Image.open('forest_test.jpg')\n",
        "image_testing = np.array(image_testing.resize((32, 32)))/255.0\n",
        "image_testing.shape"
      ],
      "execution_count": null,
      "outputs": []
    },
    {
      "cell_type": "code",
      "metadata": {
        "id": "Vq8RnQk9q5uc"
      },
      "source": [
        "image_testing = np.expand_dims(image_testing, axis=0)\n",
        "print(image_testing.shape)"
      ],
      "execution_count": null,
      "outputs": []
    },
    {
      "cell_type": "code",
      "metadata": {
        "colab": {
          "base_uri": "https://localhost:8080/"
        },
        "id": "GPv_a_smrgxq",
        "outputId": "7b13cdfc-a925-4851-f88a-73a944e1b31e"
      },
      "source": [
        "output = model.predict(image_testing, 1)\n",
        "print(output)\n",
        "print(lb.classes_[output.argmax(axis=1)])"
      ],
      "execution_count": 72,
      "outputs": [
        {
          "output_type": "stream",
          "text": [
            "WARNING:tensorflow:Model was constructed with shape (None, 3072) for input Tensor(\"flatten_input:0\", shape=(None, 3072), dtype=float32), but it was called on an input with incompatible shape (1, 32, 32, 3).\n",
            "[[2.0809905e-06 9.9997878e-01 1.9215031e-05]]\n",
            "['forest']\n"
          ],
          "name": "stdout"
        }
      ]
    }
  ]
}